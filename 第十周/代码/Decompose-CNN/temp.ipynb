{
 "cells": [
  {
   "cell_type": "code",
   "execution_count": 1,
   "metadata": {},
   "outputs": [
    {
     "data": {
      "application/vnd.jupyter.widget-view+json": {
       "model_id": "680341062a684382ae7e366388b8a571",
       "version_major": 2,
       "version_minor": 0
      },
      "text/plain": [
       "Downloading readme:   0%|          | 0.00/3.90k [00:00<?, ?B/s]"
      ]
     },
     "metadata": {},
     "output_type": "display_data"
    },
    {
     "data": {
      "application/vnd.jupyter.widget-view+json": {
       "model_id": "865ca7eeabe542d9b9facff1db683db5",
       "version_major": 2,
       "version_minor": 0
      },
      "text/plain": [
       "Downloading metadata:   0%|          | 0.00/3.52k [00:00<?, ?B/s]"
      ]
     },
     "metadata": {},
     "output_type": "display_data"
    },
    {
     "data": {
      "application/vnd.jupyter.widget-view+json": {
       "model_id": "14123c4b05614dbf946e769a4194ef88",
       "version_major": 2,
       "version_minor": 0
      },
      "text/plain": [
       "Downloading data:   0%|          | 0.00/146M [00:00<?, ?B/s]"
      ]
     },
     "metadata": {},
     "output_type": "display_data"
    },
    {
     "data": {
      "application/vnd.jupyter.widget-view+json": {
       "model_id": "94302f4d94dc4ce79b65036707ce4e69",
       "version_major": 2,
       "version_minor": 0
      },
      "text/plain": [
       "Downloading data:   0%|          | 0.00/14.6M [00:00<?, ?B/s]"
      ]
     },
     "metadata": {},
     "output_type": "display_data"
    },
    {
     "data": {
      "application/vnd.jupyter.widget-view+json": {
       "model_id": "00c68912ac09433d80d2a97026d08cb3",
       "version_major": 2,
       "version_minor": 0
      },
      "text/plain": [
       "Generating train split:   0%|          | 0/100000 [00:00<?, ? examples/s]"
      ]
     },
     "metadata": {},
     "output_type": "display_data"
    },
    {
     "data": {
      "application/vnd.jupyter.widget-view+json": {
       "model_id": "9fc251074e11463b96b84f420fc906d7",
       "version_major": 2,
       "version_minor": 0
      },
      "text/plain": [
       "Generating valid split:   0%|          | 0/10000 [00:00<?, ? examples/s]"
      ]
     },
     "metadata": {},
     "output_type": "display_data"
    }
   ],
   "source": [
    "from datasets import load_dataset\n",
    "\n",
    "ds = load_dataset(\"zh-plus/tiny-imagenet\")"
   ]
  },
  {
   "cell_type": "code",
   "execution_count": 14,
   "metadata": {},
   "outputs": [],
   "source": [
    "import pyarrow.parquet as pq\n",
    "from PIL import Image\n",
    "import os\n",
    "import io\n",
    "# 读取 Parquet 文件\n",
    "file_path = 'dataset/train/0000.parquet'\n",
    "table = pq.read_table(file_path)\n",
    "\n",
    "# 将数据转换为 Pandas DataFrame\n",
    "df = table.to_pandas()\n",
    "\n",
    "\n",
    "# 遍历每一行数据\n",
    "for index, row in df.iterrows():\n",
    "    image = row['image']  # 提取图像对象\n",
    "    label = row['label']  # 提取标签\n",
    "    \n",
    "    # 构建保存图像的目录\n",
    "    save_dir = f\"dataset/train/{label}\"\n",
    "    os.makedirs(save_dir, exist_ok=True)\n",
    "    \n",
    "    # 保存图像到对应的目录中\n",
    "    save_path = os.path.join(save_dir, f\"image_{index}.jpg\")\n",
    "    image_stream = io.BytesIO(image['bytes'])\n",
    "\n",
    "    # 使用 Pillow 从二进制流中打开图像\n",
    "    image = Image.open(image_stream)\n",
    "    image.save(save_path)\n",
    "    \n",
    "    print(f\"Saved image {index} to {save_path}\")\n"
   ]
  },
  {
   "cell_type": "code",
   "execution_count": null,
   "metadata": {},
   "outputs": [],
   "source": [
    "import pyarrow.parquet as pq\n",
    "from PIL import Image\n",
    "import os\n",
    "import io\n",
    "# 读取 Parquet 文件\n",
    "file_path = 'dataset/val/val.parquet'\n",
    "table = pq.read_table(file_path)\n",
    "\n",
    "# 将数据转换为 Pandas DataFrame\n",
    "df = table.to_pandas()\n",
    "\n",
    "\n",
    "# 遍历每一行数据\n",
    "for index, row in df.iterrows():\n",
    "    image = row['image']  # 提取图像对象\n",
    "    label = row['label']  # 提取标签\n",
    "    \n",
    "    # 构建保存图像的目录\n",
    "    save_dir = f\"dataset/val/{label}\"\n",
    "    os.makedirs(save_dir, exist_ok=True)\n",
    "    \n",
    "    # 保存图像到对应的目录中\n",
    "    save_path = os.path.join(save_dir, f\"image_{index}.jpg\")\n",
    "    image_stream = io.BytesIO(image['bytes'])\n",
    "\n",
    "    # 使用 Pillow 从二进制流中打开图像\n",
    "    image = Image.open(image_stream)\n",
    "    image.save(save_path)\n",
    "    \n",
    "    print(f\"Saved image {index} to {save_path}\")\n"
   ]
  }
 ],
 "metadata": {
  "kernelspec": {
   "display_name": "env1",
   "language": "python",
   "name": "python3"
  },
  "language_info": {
   "codemirror_mode": {
    "name": "ipython",
    "version": 3
   },
   "file_extension": ".py",
   "mimetype": "text/x-python",
   "name": "python",
   "nbconvert_exporter": "python",
   "pygments_lexer": "ipython3",
   "version": "3.12.3"
  }
 },
 "nbformat": 4,
 "nbformat_minor": 2
}
